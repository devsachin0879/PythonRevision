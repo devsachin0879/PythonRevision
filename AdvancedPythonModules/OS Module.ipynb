{
 "cells": [
  {
   "cell_type": "code",
   "execution_count": 1,
   "metadata": {},
   "outputs": [
    {
     "data": {
      "text/plain": [
       "'D:\\\\Sachin\\\\Courses\\\\Python\\\\Section14\\\\AdvancedPythonModules'"
      ]
     },
     "execution_count": 1,
     "metadata": {},
     "output_type": "execute_result"
    }
   ],
   "source": [
    "pwd"
   ]
  },
  {
   "cell_type": "code",
   "execution_count": 2,
   "metadata": {},
   "outputs": [],
   "source": [
    "f = open('practice.txt','w+')\n",
    "f.write(\"This is a test string\")\n",
    "f.close()"
   ]
  },
  {
   "cell_type": "code",
   "execution_count": 3,
   "metadata": {},
   "outputs": [],
   "source": [
    "import os"
   ]
  },
  {
   "cell_type": "code",
   "execution_count": 4,
   "metadata": {},
   "outputs": [
    {
     "data": {
      "text/plain": [
       "'D:\\\\Sachin\\\\Courses\\\\Python\\\\Section14\\\\AdvancedPythonModules'"
      ]
     },
     "execution_count": 4,
     "metadata": {},
     "output_type": "execute_result"
    }
   ],
   "source": [
    "os.getcwd()"
   ]
  },
  {
   "cell_type": "code",
   "execution_count": 5,
   "metadata": {},
   "outputs": [
    {
     "data": {
      "text/plain": [
       "['.ipynb_checkpoints',\n",
       " 'Collections Module.ipynb',\n",
       " 'OS Module.ipynb',\n",
       " 'practice.txt']"
      ]
     },
     "execution_count": 5,
     "metadata": {},
     "output_type": "execute_result"
    }
   ],
   "source": [
    "os.listdir()"
   ]
  },
  {
   "cell_type": "code",
   "execution_count": 9,
   "metadata": {},
   "outputs": [
    {
     "data": {
      "text/plain": [
       "['.ipynb_checkpoints',\n",
       " 'Section10',\n",
       " 'Section11',\n",
       " 'Section12',\n",
       " 'Section13',\n",
       " 'Section14',\n",
       " 'Section3',\n",
       " 'Section4',\n",
       " 'Section6',\n",
       " 'Section7',\n",
       " 'Section8',\n",
       " 'Section9',\n",
       " 'Untitled.ipynb']"
      ]
     },
     "execution_count": 9,
     "metadata": {},
     "output_type": "execute_result"
    }
   ],
   "source": [
    "os.listdir('D:\\\\Sachin\\\\Courses\\\\Python')"
   ]
  },
  {
   "cell_type": "code",
   "execution_count": 11,
   "metadata": {},
   "outputs": [],
   "source": [
    "import shutil # use to move files in different locations"
   ]
  },
  {
   "cell_type": "code",
   "execution_count": 12,
   "metadata": {},
   "outputs": [
    {
     "data": {
      "text/plain": [
       "'D:\\\\Sachin\\\\Courses\\\\Python\\\\practice.txt'"
      ]
     },
     "execution_count": 12,
     "metadata": {},
     "output_type": "execute_result"
    }
   ],
   "source": [
    "shutil.move('practice.txt','D:\\\\Sachin\\\\Courses\\\\Python')"
   ]
  },
  {
   "cell_type": "code",
   "execution_count": 13,
   "metadata": {},
   "outputs": [
    {
     "data": {
      "text/plain": [
       "['.ipynb_checkpoints',\n",
       " 'practice.txt',\n",
       " 'Section10',\n",
       " 'Section11',\n",
       " 'Section12',\n",
       " 'Section13',\n",
       " 'Section14',\n",
       " 'Section3',\n",
       " 'Section4',\n",
       " 'Section6',\n",
       " 'Section7',\n",
       " 'Section8',\n",
       " 'Section9',\n",
       " 'Untitled.ipynb']"
      ]
     },
     "execution_count": 13,
     "metadata": {},
     "output_type": "execute_result"
    }
   ],
   "source": [
    "os.listdir('D:\\\\Sachin\\\\Courses\\\\Python')"
   ]
  },
  {
   "attachments": {},
   "cell_type": "markdown",
   "metadata": {},
   "source": [
    "#### Deleting Files\n",
    "##### NOTE: The os module provides 3 methods for deleting files:\n",
    "\n",
    "**-->** os.unlink(path) which deletes a file at the path your provide\n",
    "\n",
    "**-->** os.rmdir(path) which deletes a folder (folder must be empty) at the path your provide\n",
    "\n",
    "**-->** shutil.rmtree(path) this is the most dangerous, as it will remove all files and folders contained in the path.\n",
    "All of these methods can not be reversed! Which means if you make a mistake you won't be able to recover the file. Instead we will use the send2trash module. A safer alternative that sends deleted files to the trash bin instead of permanent removal.\n",
    "\n",
    "\n",
    "##### Install send2trash module with:\n",
    "\n",
    "pip install send2trash\n"
   ]
  },
  {
   "cell_type": "code",
   "execution_count": 16,
   "metadata": {},
   "outputs": [
    {
     "data": {
      "text/plain": [
       "'D:\\\\Sachin\\\\Courses\\\\Python\\\\Section14\\\\AdvancedPythonModules'"
      ]
     },
     "execution_count": 16,
     "metadata": {},
     "output_type": "execute_result"
    }
   ],
   "source": [
    "os.getcwd()"
   ]
  },
  {
   "cell_type": "code",
   "execution_count": 17,
   "metadata": {},
   "outputs": [],
   "source": [
    "os.chdir(\"D:\\\\Sachin\\\\Courses\\\\Python\")"
   ]
  },
  {
   "cell_type": "code",
   "execution_count": 18,
   "metadata": {},
   "outputs": [
    {
     "data": {
      "text/plain": [
       "'D:\\\\Sachin\\\\Courses\\\\Python'"
      ]
     },
     "execution_count": 18,
     "metadata": {},
     "output_type": "execute_result"
    }
   ],
   "source": [
    "os.getcwd()"
   ]
  },
  {
   "cell_type": "code",
   "execution_count": 19,
   "metadata": {},
   "outputs": [
    {
     "data": {
      "text/plain": [
       "'D:\\\\Sachin\\\\Courses\\\\Python\\\\Section14\\\\AdvancedPythonModules\\\\practice.txt'"
      ]
     },
     "execution_count": 19,
     "metadata": {},
     "output_type": "execute_result"
    }
   ],
   "source": [
    "shutil.move('practice.txt','D:\\\\Sachin\\\\Courses\\\\Python\\\\Section14\\\\AdvancedPythonModules')"
   ]
  },
  {
   "cell_type": "code",
   "execution_count": 20,
   "metadata": {},
   "outputs": [],
   "source": [
    "os.chdir('D:\\\\Sachin\\\\Courses\\\\Python\\\\Section14\\\\AdvancedPythonModules')"
   ]
  },
  {
   "cell_type": "code",
   "execution_count": 21,
   "metadata": {},
   "outputs": [
    {
     "data": {
      "text/plain": [
       "'D:\\\\Sachin\\\\Courses\\\\Python\\\\Section14\\\\AdvancedPythonModules'"
      ]
     },
     "execution_count": 21,
     "metadata": {},
     "output_type": "execute_result"
    }
   ],
   "source": [
    "os.getcwd()"
   ]
  },
  {
   "cell_type": "code",
   "execution_count": 23,
   "metadata": {},
   "outputs": [
    {
     "data": {
      "text/plain": [
       "['.ipynb_checkpoints',\n",
       " 'Collections Module.ipynb',\n",
       " 'OS Module.ipynb',\n",
       " 'practice.txt']"
      ]
     },
     "execution_count": 23,
     "metadata": {},
     "output_type": "execute_result"
    }
   ],
   "source": [
    "os.listdir('D:\\\\Sachin\\\\Courses\\\\Python\\\\Section14\\\\AdvancedPythonModules')"
   ]
  },
  {
   "cell_type": "code",
   "execution_count": 24,
   "metadata": {},
   "outputs": [],
   "source": [
    "import send2trash"
   ]
  },
  {
   "cell_type": "code",
   "execution_count": 25,
   "metadata": {},
   "outputs": [
    {
     "data": {
      "text/plain": [
       "['.ipynb_checkpoints',\n",
       " 'Collections Module.ipynb',\n",
       " 'OS Module.ipynb',\n",
       " 'practice.txt']"
      ]
     },
     "execution_count": 25,
     "metadata": {},
     "output_type": "execute_result"
    }
   ],
   "source": [
    "os.listdir()"
   ]
  },
  {
   "cell_type": "code",
   "execution_count": 26,
   "metadata": {},
   "outputs": [],
   "source": [
    "send2trash.send2trash('practice.txt')"
   ]
  },
  {
   "cell_type": "code",
   "execution_count": 27,
   "metadata": {},
   "outputs": [
    {
     "data": {
      "text/plain": [
       "['.ipynb_checkpoints', 'Collections Module.ipynb', 'OS Module.ipynb']"
      ]
     },
     "execution_count": 27,
     "metadata": {},
     "output_type": "execute_result"
    }
   ],
   "source": [
    "os.listdir()"
   ]
  },
  {
   "cell_type": "markdown",
   "metadata": {},
   "source": [
    "### Walking through a directory"
   ]
  },
  {
   "cell_type": "code",
   "execution_count": 28,
   "metadata": {},
   "outputs": [
    {
     "data": {
      "text/plain": [
       "'D:\\\\Sachin\\\\Courses\\\\Python\\\\Section14\\\\AdvancedPythonModules'"
      ]
     },
     "execution_count": 28,
     "metadata": {},
     "output_type": "execute_result"
    }
   ],
   "source": [
    "os.getcwd()"
   ]
  },
  {
   "cell_type": "code",
   "execution_count": 29,
   "metadata": {},
   "outputs": [],
   "source": [
    "file_path = 'D:\\\\Sachin\\\\Courses\\\\Python\\\\Section14\\\\AdvancedPythonModules\\\\Example_Top_Level'\n"
   ]
  },
  {
   "cell_type": "code",
   "execution_count": 32,
   "metadata": {},
   "outputs": [
    {
     "name": "stdout",
     "output_type": "stream",
     "text": [
      "Currently looking at D:\\Sachin\\Courses\\Python\\Section14\\AdvancedPythonModules\\Example_Top_Level\n",
      "\n",
      "\n",
      "Te subfolders are: \n",
      "\t Subfolder: Mid-Example-One\n",
      "\n",
      "\n",
      "The files are: \n",
      "\t File: Mid-Example.txt\n",
      "Currently looking at D:\\Sachin\\Courses\\Python\\Section14\\AdvancedPythonModules\\Example_Top_Level\\Mid-Example-One\n",
      "\n",
      "\n",
      "Te subfolders are: \n",
      "\t Subfolder: Bottom-Level-One\n",
      "\t Subfolder: Bottom-Levvel-Two\n",
      "\n",
      "\n",
      "The files are: \n",
      "\t File: Mid-Level.txt\n",
      "Currently looking at D:\\Sachin\\Courses\\Python\\Section14\\AdvancedPythonModules\\Example_Top_Level\\Mid-Example-One\\Bottom-Level-One\n",
      "\n",
      "\n",
      "Te subfolders are: \n",
      "\n",
      "\n",
      "The files are: \n",
      "\t File: One.txt\n",
      "Currently looking at D:\\Sachin\\Courses\\Python\\Section14\\AdvancedPythonModules\\Example_Top_Level\\Mid-Example-One\\Bottom-Levvel-Two\n",
      "\n",
      "\n",
      "Te subfolders are: \n",
      "\n",
      "\n",
      "The files are: \n",
      "\t File: Two.txt\n"
     ]
    }
   ],
   "source": [
    "for folder, sub_folder,files in os.walk(file_path):\n",
    "    \n",
    "    print(f\"Currently looking at {folder}\")\n",
    "    print(\"\\n\")\n",
    "    print(\"Te subfolders are: \")\n",
    "    \n",
    "    for sub_fold in sub_folder:\n",
    "        print(f\"\\t Subfolder: {sub_fold}\")\n",
    "        \n",
    "    print(\"\\n\")\n",
    "    print(\"The files are: \")\n",
    "    for f in files:\n",
    "        print(f\"\\t File: {f}\")"
   ]
  },
  {
   "cell_type": "code",
   "execution_count": null,
   "metadata": {},
   "outputs": [],
   "source": []
  }
 ],
 "metadata": {
  "kernelspec": {
   "display_name": "Python 3",
   "language": "python",
   "name": "python3"
  },
  "language_info": {
   "codemirror_mode": {
    "name": "ipython",
    "version": 3
   },
   "file_extension": ".py",
   "mimetype": "text/x-python",
   "name": "python",
   "nbconvert_exporter": "python",
   "pygments_lexer": "ipython3",
   "version": "3.8.5"
  }
 },
 "nbformat": 4,
 "nbformat_minor": 4
}
